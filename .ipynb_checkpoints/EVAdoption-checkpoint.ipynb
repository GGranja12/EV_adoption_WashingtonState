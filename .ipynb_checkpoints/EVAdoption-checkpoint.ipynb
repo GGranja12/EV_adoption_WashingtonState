{
 "cells": [
  {
   "cell_type": "code",
   "execution_count": null,
   "id": "d2d12e78-6fca-4dbc-9a84-1dbb60dc41d1",
   "metadata": {},
   "outputs": [],
   "source": [
    "#Relevant Libraries\n",
    "from dotenv import load_dotenv\n",
    "import os \n",
    "\n",
    "import time\n",
    "import requests\n",
    "\n",
    "import pandas as pd\n"
   ]
  },
  {
   "cell_type": "code",
   "execution_count": null,
   "id": "49087627-696e-44de-a3c2-0ab908bcce08",
   "metadata": {},
   "outputs": [],
   "source": [
    "load_dotenv()"
   ]
  },
  {
   "cell_type": "code",
   "execution_count": null,
   "id": "049acbe8-7437-49d3-b2b8-22d1ed01e096",
   "metadata": {},
   "outputs": [],
   "source": [
    "#Keeping my key in an hidden file\n",
    "my_key = os.getenv(\"API_KEY\")"
   ]
  },
  {
   "cell_type": "code",
   "execution_count": null,
   "id": "58b06515-e22b-49b4-99ce-7b8deff7b81b",
   "metadata": {},
   "outputs": [],
   "source": [
    "#Lets retrieve all the records within the Washington state\n",
    "\n",
    "url = \"https://electric-vehicle-data2.p.rapidapi.com/records\"\n",
    "\n",
    "headers = {\n",
    "\t\"x-rapidapi-key\": my_key,\n",
    "\t\"x-rapidapi-host\": \"electric-vehicle-data2.p.rapidapi.com\"}"
   ]
  },
  {
   "cell_type": "code",
   "execution_count": null,
   "id": "039e00b0-362f-4b03-97cf-4f33b97fdb47",
   "metadata": {},
   "outputs": [],
   "source": [
    "ev_records = []\n",
    "\n",
    "for i in range (0, 15):\n",
    "    querystring = {\"state\": \"WA\", \"dataListIndex\": f\">={i*500}\", \"orderBy\":\"dataListIndex_asc\"}\n",
    "    response = requests.get(url, headers=headers, params=querystring)\n",
    "    ev_data = response.json()\n",
    "    final_data = ev_data[\"data\"]\n",
    "    ev_records.extend(final_data)\n",
    "    time.sleep(5)"
   ]
  },
  {
   "cell_type": "code",
   "execution_count": null,
   "id": "bb9bd26f-b4dd-48ac-8b03-de067b5bc653",
   "metadata": {},
   "outputs": [],
   "source": [
    "response.status_code"
   ]
  },
  {
   "cell_type": "code",
   "execution_count": null,
   "id": "01b61835-358a-42d9-a0e1-df5e187a03e8",
   "metadata": {},
   "outputs": [],
   "source": [
    "df_WA = pd.DataFrame(ev_records)\n",
    "df_WA.shape"
   ]
  },
  {
   "cell_type": "code",
   "execution_count": null,
   "id": "361176c7-1d30-4384-a7dc-ea680bb2a807",
   "metadata": {},
   "outputs": [],
   "source": [
    "df_WA.isna().sum()"
   ]
  },
  {
   "cell_type": "code",
   "execution_count": null,
   "id": "26f6aa8f-f502-4ec7-b7d2-157b5dad5796",
   "metadata": {},
   "outputs": [],
   "source": [
    "#To check if we have meaningful info reagrding baseMrsp\n",
    "df_WA.baseMsrp.value_counts()"
   ]
  },
  {
   "cell_type": "code",
   "execution_count": null,
   "id": "563dc708-3b75-4386-9d89-c82cfcf45e9c",
   "metadata": {},
   "outputs": [],
   "source": [
    "#to check if we have duplciates\n",
    "df_WA.duplicated().sum()"
   ]
  },
  {
   "cell_type": "code",
   "execution_count": null,
   "id": "c9fa180d-2140-47c1-8372-8e54655e6f86",
   "metadata": {},
   "outputs": [],
   "source": [
    "#Dropping info not needed\n",
    "df_WA = df_WA.drop(columns=[\"dataListIndex\", \"vin\", \"baseMsrp\", \"postalCode\", \"CensusTract\", \"electricUtility\", \"dolVehicleId\", \"legislativeDistrict\"])"
   ]
  },
  {
   "cell_type": "code",
   "execution_count": null,
   "id": "c61a7068-76b0-4f1c-af4d-db81b3f5d514",
   "metadata": {},
   "outputs": [],
   "source": [
    "df_WA.dtypes"
   ]
  },
  {
   "cell_type": "code",
   "execution_count": null,
   "id": "9d5e7b89-4a94-4cb2-a2c4-746bd9fe759e",
   "metadata": {},
   "outputs": [],
   "source": [
    "#Creating the column car_name so that we have all the relevant info \n",
    "df_WA[\"car_name\"] = df_WA[\"make\"] + \" \" + df_WA[\"model\"] + \"_\" + df_WA[\"modelYear\"] \n",
    "df_WA.sample(10)"
   ]
  },
  {
   "cell_type": "code",
   "execution_count": null,
   "id": "ffa83db1-17fb-4289-8b98-10e966a73b44",
   "metadata": {},
   "outputs": [],
   "source": [
    "#Transforming \n",
    "df_WA[\"electricRange\"] = df_WA[\"electricRange\"].astype(int)"
   ]
  },
  {
   "cell_type": "code",
   "execution_count": null,
   "id": "5e089821-056b-4907-b2cb-2fb4e3b426b3",
   "metadata": {},
   "outputs": [],
   "source": [
    "df_WA.electricRange.value_counts()"
   ]
  },
  {
   "cell_type": "code",
   "execution_count": null,
   "id": "fffbc29d-2ec1-4814-b577-14710509b0d0",
   "metadata": {},
   "outputs": [],
   "source": [
    "df_WA[\"electricRange\"] = df_WA[\"electricRange\"].apply(lambda x: float(x*1.609344)) # to convert in kms"
   ]
  },
  {
   "cell_type": "code",
   "execution_count": null,
   "id": "1aef1b2b-2fd8-455a-aaca-2533c9299b4a",
   "metadata": {},
   "outputs": [],
   "source": [
    "df_WA.rename(columns = {\"electricRange\":\"electricRange_kms\"}, inplace = True)"
   ]
  },
  {
   "cell_type": "code",
   "execution_count": null,
   "id": "2b8bf160-c283-4ece-a870-2e25b548ab2b",
   "metadata": {},
   "outputs": [],
   "source": [
    "df_WA.sample(10)"
   ]
  },
  {
   "cell_type": "code",
   "execution_count": null,
   "id": "5c4da991-cef5-4cef-8ae6-c1546e32aef9",
   "metadata": {},
   "outputs": [],
   "source": [
    "df_WA.cleanAlternativeFuelVehicle.value_counts()"
   ]
  },
  {
   "cell_type": "code",
   "execution_count": null,
   "id": "8833f71a-06ee-443e-b4bf-d68954f865ed",
   "metadata": {},
   "outputs": [],
   "source": [
    "df_WA.electricVehicleType.value_counts()"
   ]
  },
  {
   "cell_type": "code",
   "execution_count": null,
   "id": "dfa1cb6f-1c3b-4c4a-abbf-d7414037e2e8",
   "metadata": {},
   "outputs": [],
   "source": [
    "df_WA_final = df_WA[df_WA[\"electricRange_kms\"] != 0] #I will disregard the 0 values"
   ]
  },
  {
   "cell_type": "code",
   "execution_count": null,
   "id": "fb0306a8-4457-4939-8dcf-965a48421877",
   "metadata": {},
   "outputs": [],
   "source": [
    "df_WA_final.electricRange_kms.value_counts()"
   ]
  },
  {
   "cell_type": "code",
   "execution_count": null,
   "id": "7fdb422c-dab2-4efe-b0ca-bdf5667cf1f7",
   "metadata": {},
   "outputs": [],
   "source": [
    "df_WA_mini = df_WA_final.groupby(\"county\")[\"electricRange_kms\"].quantile(0.75).reset_index()\n",
    "df_WA_mini"
   ]
  },
  {
   "cell_type": "code",
   "execution_count": null,
   "id": "84b8cae1-66ae-42c7-b3e4-92cc73328361",
   "metadata": {},
   "outputs": [],
   "source": [
    "top_10_car = df_WA_mini.car_name.value_counts().head(10)\n",
    "top_10_car.columns = [\"car_name\", \"count\"]"
   ]
  },
  {
   "cell_type": "code",
   "execution_count": null,
   "id": "0d30b1fa-7e18-4550-a85d-f78589914b7a",
   "metadata": {},
   "outputs": [],
   "source": [
    "df_car_count = df_WA_mini.car_name.value_counts()\n",
    "df_car_count.columns = [\"car_name\", \"count\"]"
   ]
  },
  {
   "cell_type": "code",
   "execution_count": null,
   "id": "12fa008e-031e-4461-8568-4cf7e810aed1",
   "metadata": {},
   "outputs": [],
   "source": [
    "df_car_range = df_WA_mini[[\"car_name\", \"electricRange_kms\"]].drop_duplicates()"
   ]
  },
  {
   "cell_type": "code",
   "execution_count": null,
   "id": "e52271a1-876d-4c86-9f12-ac3026c179ec",
   "metadata": {},
   "outputs": [],
   "source": [
    "df_car_merge = df_car_range.merge(df_car_count, on=\"car_name\", how=\"left\")\n",
    "df_car_merge = df_car_merge.sort_values(by=\"count\", ascending=False)\n",
    "df_car_merge.head(10).set_index(\"car_name\")"
   ]
  },
  {
   "cell_type": "code",
   "execution_count": null,
   "id": "5b1f8715-d6e4-4508-ad3d-87933dc5dc81",
   "metadata": {},
   "outputs": [],
   "source": [
    "df4 = df_WA_mini.groupby([\"county\", \"electricVehicleType\"]).size().reset_index()\n",
    "df4.rename(columns= {0:\"count\"}, inplace = True)\n",
    "df4"
   ]
  },
  {
   "cell_type": "code",
   "execution_count": null,
   "id": "c5bd63d7-c288-49e5-819f-2e043fd8b663",
   "metadata": {},
   "outputs": [],
   "source": [
    "# MAIN LIBRARIES \n",
    "import matplotlib.pyplot as plt \n",
    "import seaborn as sns"
   ]
  },
  {
   "cell_type": "code",
   "execution_count": null,
   "id": "163a44df-0833-453a-866d-be6351644bdf",
   "metadata": {},
   "outputs": [],
   "source": [
    "sns.barplot(x='county', y='count', hue='electricVehicleType', data=df6)\n",
    "plt.show()"
   ]
  },
  {
   "cell_type": "code",
   "execution_count": null,
   "id": "d495e607-a7a2-4aa9-a6a6-fb9ff005a59a",
   "metadata": {},
   "outputs": [],
   "source": [
    "# Possible insights:\n",
    "# Relevant columns: count, city, modelYear,\tmake, model, electricVehicleType, cleanAlternativeFuelVehicle, electricRange\n",
    "# - get the median electricRange per county (taking out the 0);\n",
    "# - get the top 10 make and model;\n",
    "# - get the top type electricVehicleType per county;\n",
    "# - get a pivot with 75th quantile of the electricrange; "
   ]
  }
 ],
 "metadata": {
  "kernelspec": {
   "display_name": "Python 3 (ipykernel)",
   "language": "python",
   "name": "python3"
  },
  "language_info": {
   "codemirror_mode": {
    "name": "ipython",
    "version": 3
   },
   "file_extension": ".py",
   "mimetype": "text/x-python",
   "name": "python",
   "nbconvert_exporter": "python",
   "pygments_lexer": "ipython3",
   "version": "3.12.4"
  }
 },
 "nbformat": 4,
 "nbformat_minor": 5
}
