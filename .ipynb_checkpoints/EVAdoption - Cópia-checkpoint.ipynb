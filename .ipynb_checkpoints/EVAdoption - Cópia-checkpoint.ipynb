{
 "cells": [
  {
   "cell_type": "code",
   "execution_count": 60,
   "id": "d2d12e78-6fca-4dbc-9a84-1dbb60dc41d1",
   "metadata": {},
   "outputs": [],
   "source": [
    "#Relevant Libraries\n",
    "from dotenv import load_dotenv\n",
    "import os \n",
    "\n",
    "import time\n",
    "import requests\n",
    "\n",
    "import pandas as pd\n"
   ]
  },
  {
   "cell_type": "code",
   "execution_count": 62,
   "id": "49087627-696e-44de-a3c2-0ab908bcce08",
   "metadata": {},
   "outputs": [
    {
     "data": {
      "text/plain": [
       "True"
      ]
     },
     "execution_count": 62,
     "metadata": {},
     "output_type": "execute_result"
    }
   ],
   "source": [
    "load_dotenv()"
   ]
  },
  {
   "cell_type": "code",
   "execution_count": 64,
   "id": "049acbe8-7437-49d3-b2b8-22d1ed01e096",
   "metadata": {},
   "outputs": [],
   "source": [
    "#Keeping my key in an hidden file\n",
    "my_key = os.getenv(\"API_KEY\")"
   ]
  },
  {
   "cell_type": "code",
   "execution_count": 35,
   "id": "288256de-0279-40e3-b0f5-86d0743bf5e4",
   "metadata": {},
   "outputs": [
    {
     "data": {
      "text/plain": [
       "'017c936a82msh8860646249c65a4p13c03bjsn9438dd108cbd'"
      ]
     },
     "execution_count": 35,
     "metadata": {},
     "output_type": "execute_result"
    }
   ],
   "source": [
    "my_key"
   ]
  },
  {
   "cell_type": "code",
   "execution_count": 50,
   "id": "7e603a47-0152-4229-b59a-1992cfe58d3c",
   "metadata": {},
   "outputs": [],
   "source": [
    "url = \"https://electric-vehicle-data2.p.rapidapi.com/records\"\n",
    "querystring = {\"limit\":\"20\",\"orderBy\":\"state_asc\",\"index\":\"0\"}\n",
    "headers = {\n",
    "\t\"x-rapidapi-key\": \"017c936a82msh8860646249c65a4p13c03bjsn9438dd108cbd\",\n",
    "\t\"x-rapidapi-host\": \"electric-vehicle-data2.p.rapidapi.com\"}"
   ]
  },
  {
   "cell_type": "code",
   "execution_count": null,
   "id": "88b9366f-cdb4-4109-b3b8-e69977a8411b",
   "metadata": {},
   "outputs": [],
   "source": []
  },
  {
   "cell_type": "code",
   "execution_count": null,
   "id": "f031b2a6-1ad8-4886-a47a-d00409a3039b",
   "metadata": {},
   "outputs": [],
   "source": []
  },
  {
   "cell_type": "code",
   "execution_count": 45,
   "id": "df86c5d0-b934-438b-82ef-010399fed866",
   "metadata": {},
   "outputs": [],
   "source": [
    "#First lets retrieve the list of the US states within the API - possibly this wont be necessary ask ISI\n",
    "\n",
    "url = \"https://electric-vehicle-data2.p.rapidapi.com/state\"\n",
    "querystring = {\"limit\":\"500\",\"orderBy\":\"state_asc\",\"index\":\"0\"}\n",
    "headers = {\n",
    "\t\"x-rapidapi-key\": \"017c936a82msh8860646249c65a4p13c03bjsn9438dd108cbd\",\n",
    "\t\"x-rapidapi-host\": \"electric-vehicle-data2.p.rapidapi.com\"}"
   ]
  },
  {
   "cell_type": "code",
   "execution_count": 52,
   "id": "d0c4e833-c09f-45c8-bdb9-ca944d3809b0",
   "metadata": {},
   "outputs": [
    {
     "ename": "JSONDecodeError",
     "evalue": "Expecting value: line 1 column 1 (char 0)",
     "output_type": "error",
     "traceback": [
      "\u001b[1;31m---------------------------------------------------------------------------\u001b[0m",
      "\u001b[1;31mJSONDecodeError\u001b[0m                           Traceback (most recent call last)",
      "File \u001b[1;32m~\\anaconda3\\Lib\\site-packages\\requests\\models.py:974\u001b[0m, in \u001b[0;36mResponse.json\u001b[1;34m(self, **kwargs)\u001b[0m\n\u001b[0;32m    973\u001b[0m \u001b[38;5;28;01mtry\u001b[39;00m:\n\u001b[1;32m--> 974\u001b[0m     \u001b[38;5;28;01mreturn\u001b[39;00m complexjson\u001b[38;5;241m.\u001b[39mloads(\u001b[38;5;28mself\u001b[39m\u001b[38;5;241m.\u001b[39mtext, \u001b[38;5;241m*\u001b[39m\u001b[38;5;241m*\u001b[39mkwargs)\n\u001b[0;32m    975\u001b[0m \u001b[38;5;28;01mexcept\u001b[39;00m JSONDecodeError \u001b[38;5;28;01mas\u001b[39;00m e:\n\u001b[0;32m    976\u001b[0m     \u001b[38;5;66;03m# Catch JSON-related errors and raise as requests.JSONDecodeError\u001b[39;00m\n\u001b[0;32m    977\u001b[0m     \u001b[38;5;66;03m# This aliases json.JSONDecodeError and simplejson.JSONDecodeError\u001b[39;00m\n",
      "File \u001b[1;32m~\\anaconda3\\Lib\\json\\__init__.py:346\u001b[0m, in \u001b[0;36mloads\u001b[1;34m(s, cls, object_hook, parse_float, parse_int, parse_constant, object_pairs_hook, **kw)\u001b[0m\n\u001b[0;32m    343\u001b[0m \u001b[38;5;28;01mif\u001b[39;00m (\u001b[38;5;28mcls\u001b[39m \u001b[38;5;129;01mis\u001b[39;00m \u001b[38;5;28;01mNone\u001b[39;00m \u001b[38;5;129;01mand\u001b[39;00m object_hook \u001b[38;5;129;01mis\u001b[39;00m \u001b[38;5;28;01mNone\u001b[39;00m \u001b[38;5;129;01mand\u001b[39;00m\n\u001b[0;32m    344\u001b[0m         parse_int \u001b[38;5;129;01mis\u001b[39;00m \u001b[38;5;28;01mNone\u001b[39;00m \u001b[38;5;129;01mand\u001b[39;00m parse_float \u001b[38;5;129;01mis\u001b[39;00m \u001b[38;5;28;01mNone\u001b[39;00m \u001b[38;5;129;01mand\u001b[39;00m\n\u001b[0;32m    345\u001b[0m         parse_constant \u001b[38;5;129;01mis\u001b[39;00m \u001b[38;5;28;01mNone\u001b[39;00m \u001b[38;5;129;01mand\u001b[39;00m object_pairs_hook \u001b[38;5;129;01mis\u001b[39;00m \u001b[38;5;28;01mNone\u001b[39;00m \u001b[38;5;129;01mand\u001b[39;00m \u001b[38;5;129;01mnot\u001b[39;00m kw):\n\u001b[1;32m--> 346\u001b[0m     \u001b[38;5;28;01mreturn\u001b[39;00m _default_decoder\u001b[38;5;241m.\u001b[39mdecode(s)\n\u001b[0;32m    347\u001b[0m \u001b[38;5;28;01mif\u001b[39;00m \u001b[38;5;28mcls\u001b[39m \u001b[38;5;129;01mis\u001b[39;00m \u001b[38;5;28;01mNone\u001b[39;00m:\n",
      "File \u001b[1;32m~\\anaconda3\\Lib\\json\\decoder.py:337\u001b[0m, in \u001b[0;36mJSONDecoder.decode\u001b[1;34m(self, s, _w)\u001b[0m\n\u001b[0;32m    333\u001b[0m \u001b[38;5;250m\u001b[39m\u001b[38;5;124;03m\"\"\"Return the Python representation of ``s`` (a ``str`` instance\u001b[39;00m\n\u001b[0;32m    334\u001b[0m \u001b[38;5;124;03mcontaining a JSON document).\u001b[39;00m\n\u001b[0;32m    335\u001b[0m \n\u001b[0;32m    336\u001b[0m \u001b[38;5;124;03m\"\"\"\u001b[39;00m\n\u001b[1;32m--> 337\u001b[0m obj, end \u001b[38;5;241m=\u001b[39m \u001b[38;5;28mself\u001b[39m\u001b[38;5;241m.\u001b[39mraw_decode(s, idx\u001b[38;5;241m=\u001b[39m_w(s, \u001b[38;5;241m0\u001b[39m)\u001b[38;5;241m.\u001b[39mend())\n\u001b[0;32m    338\u001b[0m end \u001b[38;5;241m=\u001b[39m _w(s, end)\u001b[38;5;241m.\u001b[39mend()\n",
      "File \u001b[1;32m~\\anaconda3\\Lib\\json\\decoder.py:355\u001b[0m, in \u001b[0;36mJSONDecoder.raw_decode\u001b[1;34m(self, s, idx)\u001b[0m\n\u001b[0;32m    354\u001b[0m \u001b[38;5;28;01mexcept\u001b[39;00m \u001b[38;5;167;01mStopIteration\u001b[39;00m \u001b[38;5;28;01mas\u001b[39;00m err:\n\u001b[1;32m--> 355\u001b[0m     \u001b[38;5;28;01mraise\u001b[39;00m JSONDecodeError(\u001b[38;5;124m\"\u001b[39m\u001b[38;5;124mExpecting value\u001b[39m\u001b[38;5;124m\"\u001b[39m, s, err\u001b[38;5;241m.\u001b[39mvalue) \u001b[38;5;28;01mfrom\u001b[39;00m \u001b[38;5;28;01mNone\u001b[39;00m\n\u001b[0;32m    356\u001b[0m \u001b[38;5;28;01mreturn\u001b[39;00m obj, end\n",
      "\u001b[1;31mJSONDecodeError\u001b[0m: Expecting value: line 1 column 1 (char 0)",
      "\nDuring handling of the above exception, another exception occurred:\n",
      "\u001b[1;31mJSONDecodeError\u001b[0m                           Traceback (most recent call last)",
      "Cell \u001b[1;32mIn[52], line 2\u001b[0m\n\u001b[0;32m      1\u001b[0m response \u001b[38;5;241m=\u001b[39m requests\u001b[38;5;241m.\u001b[39mget(url, headers\u001b[38;5;241m=\u001b[39mheaders, params\u001b[38;5;241m=\u001b[39mquerystring)\n\u001b[1;32m----> 2\u001b[0m states_data \u001b[38;5;241m=\u001b[39m response\u001b[38;5;241m.\u001b[39mjson()\n\u001b[0;32m      3\u001b[0m states \u001b[38;5;241m=\u001b[39m states_data[\u001b[38;5;124m\"\u001b[39m\u001b[38;5;124mdata\u001b[39m\u001b[38;5;124m\"\u001b[39m]\n",
      "File \u001b[1;32m~\\anaconda3\\Lib\\site-packages\\requests\\models.py:978\u001b[0m, in \u001b[0;36mResponse.json\u001b[1;34m(self, **kwargs)\u001b[0m\n\u001b[0;32m    974\u001b[0m     \u001b[38;5;28;01mreturn\u001b[39;00m complexjson\u001b[38;5;241m.\u001b[39mloads(\u001b[38;5;28mself\u001b[39m\u001b[38;5;241m.\u001b[39mtext, \u001b[38;5;241m*\u001b[39m\u001b[38;5;241m*\u001b[39mkwargs)\n\u001b[0;32m    975\u001b[0m \u001b[38;5;28;01mexcept\u001b[39;00m JSONDecodeError \u001b[38;5;28;01mas\u001b[39;00m e:\n\u001b[0;32m    976\u001b[0m     \u001b[38;5;66;03m# Catch JSON-related errors and raise as requests.JSONDecodeError\u001b[39;00m\n\u001b[0;32m    977\u001b[0m     \u001b[38;5;66;03m# This aliases json.JSONDecodeError and simplejson.JSONDecodeError\u001b[39;00m\n\u001b[1;32m--> 978\u001b[0m     \u001b[38;5;28;01mraise\u001b[39;00m RequestsJSONDecodeError(e\u001b[38;5;241m.\u001b[39mmsg, e\u001b[38;5;241m.\u001b[39mdoc, e\u001b[38;5;241m.\u001b[39mpos)\n",
      "\u001b[1;31mJSONDecodeError\u001b[0m: Expecting value: line 1 column 1 (char 0)"
     ]
    }
   ],
   "source": [
    "response = requests.get(url, headers=headers, params=querystring)\n",
    "states_data = response.json()\n",
    "states = states_data[\"data\"]"
   ]
  },
  {
   "cell_type": "code",
   "execution_count": 68,
   "id": "58b06515-e22b-49b4-99ce-7b8deff7b81b",
   "metadata": {},
   "outputs": [],
   "source": [
    "#Lets retrieve all the records within the Washington state\n",
    "\n",
    "url = \"https://electric-vehicle-data2.p.rapidapi.com/records\"\n",
    "\n",
    "headers = {\n",
    "\t\"x-rapidapi-key\": my_key,\n",
    "\t\"x-rapidapi-host\": \"electric-vehicle-data2.p.rapidapi.com\"}"
   ]
  },
  {
   "cell_type": "code",
   "execution_count": 70,
   "id": "039e00b0-362f-4b03-97cf-4f33b97fdb47",
   "metadata": {},
   "outputs": [
    {
     "ename": "JSONDecodeError",
     "evalue": "Expecting value: line 1 column 1 (char 0)",
     "output_type": "error",
     "traceback": [
      "\u001b[1;31m---------------------------------------------------------------------------\u001b[0m",
      "\u001b[1;31mJSONDecodeError\u001b[0m                           Traceback (most recent call last)",
      "File \u001b[1;32m~\\anaconda3\\Lib\\site-packages\\requests\\models.py:974\u001b[0m, in \u001b[0;36mResponse.json\u001b[1;34m(self, **kwargs)\u001b[0m\n\u001b[0;32m    973\u001b[0m \u001b[38;5;28;01mtry\u001b[39;00m:\n\u001b[1;32m--> 974\u001b[0m     \u001b[38;5;28;01mreturn\u001b[39;00m complexjson\u001b[38;5;241m.\u001b[39mloads(\u001b[38;5;28mself\u001b[39m\u001b[38;5;241m.\u001b[39mtext, \u001b[38;5;241m*\u001b[39m\u001b[38;5;241m*\u001b[39mkwargs)\n\u001b[0;32m    975\u001b[0m \u001b[38;5;28;01mexcept\u001b[39;00m JSONDecodeError \u001b[38;5;28;01mas\u001b[39;00m e:\n\u001b[0;32m    976\u001b[0m     \u001b[38;5;66;03m# Catch JSON-related errors and raise as requests.JSONDecodeError\u001b[39;00m\n\u001b[0;32m    977\u001b[0m     \u001b[38;5;66;03m# This aliases json.JSONDecodeError and simplejson.JSONDecodeError\u001b[39;00m\n",
      "File \u001b[1;32m~\\anaconda3\\Lib\\json\\__init__.py:346\u001b[0m, in \u001b[0;36mloads\u001b[1;34m(s, cls, object_hook, parse_float, parse_int, parse_constant, object_pairs_hook, **kw)\u001b[0m\n\u001b[0;32m    343\u001b[0m \u001b[38;5;28;01mif\u001b[39;00m (\u001b[38;5;28mcls\u001b[39m \u001b[38;5;129;01mis\u001b[39;00m \u001b[38;5;28;01mNone\u001b[39;00m \u001b[38;5;129;01mand\u001b[39;00m object_hook \u001b[38;5;129;01mis\u001b[39;00m \u001b[38;5;28;01mNone\u001b[39;00m \u001b[38;5;129;01mand\u001b[39;00m\n\u001b[0;32m    344\u001b[0m         parse_int \u001b[38;5;129;01mis\u001b[39;00m \u001b[38;5;28;01mNone\u001b[39;00m \u001b[38;5;129;01mand\u001b[39;00m parse_float \u001b[38;5;129;01mis\u001b[39;00m \u001b[38;5;28;01mNone\u001b[39;00m \u001b[38;5;129;01mand\u001b[39;00m\n\u001b[0;32m    345\u001b[0m         parse_constant \u001b[38;5;129;01mis\u001b[39;00m \u001b[38;5;28;01mNone\u001b[39;00m \u001b[38;5;129;01mand\u001b[39;00m object_pairs_hook \u001b[38;5;129;01mis\u001b[39;00m \u001b[38;5;28;01mNone\u001b[39;00m \u001b[38;5;129;01mand\u001b[39;00m \u001b[38;5;129;01mnot\u001b[39;00m kw):\n\u001b[1;32m--> 346\u001b[0m     \u001b[38;5;28;01mreturn\u001b[39;00m _default_decoder\u001b[38;5;241m.\u001b[39mdecode(s)\n\u001b[0;32m    347\u001b[0m \u001b[38;5;28;01mif\u001b[39;00m \u001b[38;5;28mcls\u001b[39m \u001b[38;5;129;01mis\u001b[39;00m \u001b[38;5;28;01mNone\u001b[39;00m:\n",
      "File \u001b[1;32m~\\anaconda3\\Lib\\json\\decoder.py:337\u001b[0m, in \u001b[0;36mJSONDecoder.decode\u001b[1;34m(self, s, _w)\u001b[0m\n\u001b[0;32m    333\u001b[0m \u001b[38;5;250m\u001b[39m\u001b[38;5;124;03m\"\"\"Return the Python representation of ``s`` (a ``str`` instance\u001b[39;00m\n\u001b[0;32m    334\u001b[0m \u001b[38;5;124;03mcontaining a JSON document).\u001b[39;00m\n\u001b[0;32m    335\u001b[0m \n\u001b[0;32m    336\u001b[0m \u001b[38;5;124;03m\"\"\"\u001b[39;00m\n\u001b[1;32m--> 337\u001b[0m obj, end \u001b[38;5;241m=\u001b[39m \u001b[38;5;28mself\u001b[39m\u001b[38;5;241m.\u001b[39mraw_decode(s, idx\u001b[38;5;241m=\u001b[39m_w(s, \u001b[38;5;241m0\u001b[39m)\u001b[38;5;241m.\u001b[39mend())\n\u001b[0;32m    338\u001b[0m end \u001b[38;5;241m=\u001b[39m _w(s, end)\u001b[38;5;241m.\u001b[39mend()\n",
      "File \u001b[1;32m~\\anaconda3\\Lib\\json\\decoder.py:355\u001b[0m, in \u001b[0;36mJSONDecoder.raw_decode\u001b[1;34m(self, s, idx)\u001b[0m\n\u001b[0;32m    354\u001b[0m \u001b[38;5;28;01mexcept\u001b[39;00m \u001b[38;5;167;01mStopIteration\u001b[39;00m \u001b[38;5;28;01mas\u001b[39;00m err:\n\u001b[1;32m--> 355\u001b[0m     \u001b[38;5;28;01mraise\u001b[39;00m JSONDecodeError(\u001b[38;5;124m\"\u001b[39m\u001b[38;5;124mExpecting value\u001b[39m\u001b[38;5;124m\"\u001b[39m, s, err\u001b[38;5;241m.\u001b[39mvalue) \u001b[38;5;28;01mfrom\u001b[39;00m \u001b[38;5;28;01mNone\u001b[39;00m\n\u001b[0;32m    356\u001b[0m \u001b[38;5;28;01mreturn\u001b[39;00m obj, end\n",
      "\u001b[1;31mJSONDecodeError\u001b[0m: Expecting value: line 1 column 1 (char 0)",
      "\nDuring handling of the above exception, another exception occurred:\n",
      "\u001b[1;31mJSONDecodeError\u001b[0m                           Traceback (most recent call last)",
      "Cell \u001b[1;32mIn[70], line 8\u001b[0m\n\u001b[0;32m      6\u001b[0m querystring \u001b[38;5;241m=\u001b[39m {\u001b[38;5;124m\"\u001b[39m\u001b[38;5;124mstate\u001b[39m\u001b[38;5;124m\"\u001b[39m: \u001b[38;5;124m\"\u001b[39m\u001b[38;5;124mstate\u001b[39m\u001b[38;5;124m\"\u001b[39m, \u001b[38;5;124m\"\u001b[39m\u001b[38;5;124mdataListIndex\u001b[39m\u001b[38;5;124m\"\u001b[39m: \u001b[38;5;124mf\u001b[39m\u001b[38;5;124m\"\u001b[39m\u001b[38;5;124m>=\u001b[39m\u001b[38;5;132;01m{\u001b[39;00mi\u001b[38;5;241m*\u001b[39m\u001b[38;5;241m500\u001b[39m\u001b[38;5;132;01m}\u001b[39;00m\u001b[38;5;124m\"\u001b[39m, \u001b[38;5;124m\"\u001b[39m\u001b[38;5;124morderBy\u001b[39m\u001b[38;5;124m\"\u001b[39m:\u001b[38;5;124m\"\u001b[39m\u001b[38;5;124mdataListIndex_asc\u001b[39m\u001b[38;5;124m\"\u001b[39m}\n\u001b[0;32m      7\u001b[0m response \u001b[38;5;241m=\u001b[39m requests\u001b[38;5;241m.\u001b[39mget(url, headers\u001b[38;5;241m=\u001b[39mheaders, params\u001b[38;5;241m=\u001b[39mquerystring)\n\u001b[1;32m----> 8\u001b[0m ev_data \u001b[38;5;241m=\u001b[39m response\u001b[38;5;241m.\u001b[39mjson()\n\u001b[0;32m      9\u001b[0m final_data \u001b[38;5;241m=\u001b[39m ev_data[\u001b[38;5;124m\"\u001b[39m\u001b[38;5;124mdata\u001b[39m\u001b[38;5;124m\"\u001b[39m]\n\u001b[0;32m     10\u001b[0m ev_records\u001b[38;5;241m.\u001b[39mextend(final_data)\n",
      "File \u001b[1;32m~\\anaconda3\\Lib\\site-packages\\requests\\models.py:978\u001b[0m, in \u001b[0;36mResponse.json\u001b[1;34m(self, **kwargs)\u001b[0m\n\u001b[0;32m    974\u001b[0m     \u001b[38;5;28;01mreturn\u001b[39;00m complexjson\u001b[38;5;241m.\u001b[39mloads(\u001b[38;5;28mself\u001b[39m\u001b[38;5;241m.\u001b[39mtext, \u001b[38;5;241m*\u001b[39m\u001b[38;5;241m*\u001b[39mkwargs)\n\u001b[0;32m    975\u001b[0m \u001b[38;5;28;01mexcept\u001b[39;00m JSONDecodeError \u001b[38;5;28;01mas\u001b[39;00m e:\n\u001b[0;32m    976\u001b[0m     \u001b[38;5;66;03m# Catch JSON-related errors and raise as requests.JSONDecodeError\u001b[39;00m\n\u001b[0;32m    977\u001b[0m     \u001b[38;5;66;03m# This aliases json.JSONDecodeError and simplejson.JSONDecodeError\u001b[39;00m\n\u001b[1;32m--> 978\u001b[0m     \u001b[38;5;28;01mraise\u001b[39;00m RequestsJSONDecodeError(e\u001b[38;5;241m.\u001b[39mmsg, e\u001b[38;5;241m.\u001b[39mdoc, e\u001b[38;5;241m.\u001b[39mpos)\n",
      "\u001b[1;31mJSONDecodeError\u001b[0m: Expecting value: line 1 column 1 (char 0)"
     ]
    }
   ],
   "source": [
    "ev_records = []\n",
    "\n",
    "states = [\"WA\", \"CA\"]\n",
    "for state in states:\n",
    "    for i in range (0, 2):\n",
    "        querystring = {\"state\": \"state\", \"dataListIndex\": f\">={i*500}\", \"orderBy\":\"dataListIndex_asc\"}\n",
    "        response = requests.get(url, headers=headers, params=querystring)\n",
    "        ev_data = response.json()\n",
    "        final_data = ev_data[\"data\"]\n",
    "        ev_records.extend(final_data)\n",
    "        time.sleep(0.5)"
   ]
  },
  {
   "cell_type": "code",
   "execution_count": null,
   "id": "bb9bd26f-b4dd-48ac-8b03-de067b5bc653",
   "metadata": {},
   "outputs": [],
   "source": [
    "response.status_code"
   ]
  },
  {
   "cell_type": "code",
   "execution_count": null,
   "id": "01b61835-358a-42d9-a0e1-df5e187a03e8",
   "metadata": {},
   "outputs": [],
   "source": [
    "df_WA = pd.DataFrame(ev_records)\n",
    "df_WA.shape"
   ]
  },
  {
   "cell_type": "code",
   "execution_count": null,
   "id": "361176c7-1d30-4384-a7dc-ea680bb2a807",
   "metadata": {},
   "outputs": [],
   "source": [
    "df_WA.isna().sum()"
   ]
  },
  {
   "cell_type": "code",
   "execution_count": null,
   "id": "26f6aa8f-f502-4ec7-b7d2-157b5dad5796",
   "metadata": {},
   "outputs": [],
   "source": [
    "df_WA.baseMsrp.value_counts()"
   ]
  },
  {
   "cell_type": "code",
   "execution_count": null,
   "id": "563dc708-3b75-4386-9d89-c82cfcf45e9c",
   "metadata": {},
   "outputs": [],
   "source": [
    "df_WA.duplicated().sum()"
   ]
  },
  {
   "cell_type": "code",
   "execution_count": null,
   "id": "c9fa180d-2140-47c1-8372-8e54655e6f86",
   "metadata": {},
   "outputs": [],
   "source": [
    "df_WA = df_WA.drop(columns=[\"dataListIndex\", \"vin\", \"baseMsrp\", \"postalCode\", \"CensusTract\", \"electricUtility\", \"dolVehicleId\", \"legislativeDistrict\"])"
   ]
  },
  {
   "cell_type": "code",
   "execution_count": null,
   "id": "c61a7068-76b0-4f1c-af4d-db81b3f5d514",
   "metadata": {},
   "outputs": [],
   "source": [
    "df_WA.dtypes"
   ]
  },
  {
   "cell_type": "code",
   "execution_count": null,
   "id": "9d5e7b89-4a94-4cb2-a2c4-746bd9fe759e",
   "metadata": {},
   "outputs": [],
   "source": [
    "df_WA[\"car_name\"] = df_WA[\"make\"] + \" \" + df_WA[\"model\"] + \"_\" + df_WA[\"modelYear\"] "
   ]
  },
  {
   "cell_type": "code",
   "execution_count": null,
   "id": "dc7733f0-d626-4138-8303-9b3dec364d38",
   "metadata": {},
   "outputs": [],
   "source": [
    "df_WA.sample(10)"
   ]
  },
  {
   "cell_type": "code",
   "execution_count": null,
   "id": "ffa83db1-17fb-4289-8b98-10e966a73b44",
   "metadata": {},
   "outputs": [],
   "source": [
    "df_WA[\"electricRange\"] = df_WA[\"electricRange\"].astype(int)"
   ]
  },
  {
   "cell_type": "code",
   "execution_count": null,
   "id": "5e089821-056b-4907-b2cb-2fb4e3b426b3",
   "metadata": {},
   "outputs": [],
   "source": [
    "df_WA.electricRange.value_counts()"
   ]
  },
  {
   "cell_type": "code",
   "execution_count": null,
   "id": "fffbc29d-2ec1-4814-b577-14710509b0d0",
   "metadata": {},
   "outputs": [],
   "source": [
    "df_WA[\"electricRange\"] = df_WA[\"electricRange\"].apply(lambda x: float(x*1.609344)) # to convert in kms"
   ]
  },
  {
   "cell_type": "code",
   "execution_count": null,
   "id": "1aef1b2b-2fd8-455a-aaca-2533c9299b4a",
   "metadata": {},
   "outputs": [],
   "source": [
    "df_WA.rename(columns = {\"electricRange\":\"electricRange_kms\"}, inplace = True)"
   ]
  },
  {
   "cell_type": "code",
   "execution_count": null,
   "id": "2b8bf160-c283-4ece-a870-2e25b548ab2b",
   "metadata": {},
   "outputs": [],
   "source": [
    "df_WA.sample(10)"
   ]
  },
  {
   "cell_type": "code",
   "execution_count": null,
   "id": "5c4da991-cef5-4cef-8ae6-c1546e32aef9",
   "metadata": {},
   "outputs": [],
   "source": [
    "df_WA.cleanAlternativeFuelVehicle.value_counts()"
   ]
  },
  {
   "cell_type": "code",
   "execution_count": null,
   "id": "8833f71a-06ee-443e-b4bf-d68954f865ed",
   "metadata": {},
   "outputs": [],
   "source": [
    "df_WA.electricVehicleType.value_counts()"
   ]
  },
  {
   "cell_type": "code",
   "execution_count": null,
   "id": "dfa1cb6f-1c3b-4c4a-abbf-d7414037e2e8",
   "metadata": {},
   "outputs": [],
   "source": [
    "df_WA_final = df_WA[df_WA[\"electricRange_kms\"] != 0] #I will disregard the 0 values"
   ]
  },
  {
   "cell_type": "code",
   "execution_count": null,
   "id": "fb0306a8-4457-4939-8dcf-965a48421877",
   "metadata": {},
   "outputs": [],
   "source": [
    "df_WA_final.electricRange_kms.value_counts()"
   ]
  },
  {
   "cell_type": "code",
   "execution_count": null,
   "id": "7fdb422c-dab2-4efe-b0ca-bdf5667cf1f7",
   "metadata": {},
   "outputs": [],
   "source": [
    "df_WA_mini = df_WA_final.groupby(\"county\")[\"electricRange_kms\"].quantile(0.75).reset_index()\n",
    "df_WA_mini"
   ]
  },
  {
   "cell_type": "code",
   "execution_count": null,
   "id": "84b8cae1-66ae-42c7-b3e4-92cc73328361",
   "metadata": {},
   "outputs": [],
   "source": [
    "top_10_car = df4.car_name.value_counts().head(10)\n",
    "top_10_car.columns = [\"car_name\", \"count\"]"
   ]
  },
  {
   "cell_type": "code",
   "execution_count": null,
   "id": "0d30b1fa-7e18-4550-a85d-f78589914b7a",
   "metadata": {},
   "outputs": [],
   "source": [
    "df_car_count = df4.car_name.value_counts()\n",
    "df_car_count.columns = [\"car_name\", \"count\"]"
   ]
  },
  {
   "cell_type": "code",
   "execution_count": null,
   "id": "12fa008e-031e-4461-8568-4cf7e810aed1",
   "metadata": {},
   "outputs": [],
   "source": [
    "df_car_range = df4[[\"car_name\", \"electricRange_kms\"]].drop_duplicates()"
   ]
  },
  {
   "cell_type": "code",
   "execution_count": null,
   "id": "e52271a1-876d-4c86-9f12-ac3026c179ec",
   "metadata": {},
   "outputs": [],
   "source": [
    "df_car_merge = df_car_range.merge(df_car_count, on=\"car_name\", how=\"left\")\n",
    "df_car_merge = df_car_merge.sort_values(by=\"count\", ascending=False)\n",
    "df_car_merge.head(10).set_index(\"car_name\")"
   ]
  },
  {
   "cell_type": "code",
   "execution_count": null,
   "id": "5b1f8715-d6e4-4508-ad3d-87933dc5dc81",
   "metadata": {},
   "outputs": [],
   "source": [
    "df6 = df4.groupby([\"county\", \"electricVehicleType\"]).size().reset_index()\n",
    "df6.rename(columns= {0:\"count\"}, inplace = True)\n",
    "df6"
   ]
  },
  {
   "cell_type": "code",
   "execution_count": null,
   "id": "c5bd63d7-c288-49e5-819f-2e043fd8b663",
   "metadata": {},
   "outputs": [],
   "source": [
    "# MAIN LIBRARIES \n",
    "import matplotlib.pyplot as plt \n",
    "import seaborn as sns"
   ]
  },
  {
   "cell_type": "code",
   "execution_count": null,
   "id": "163a44df-0833-453a-866d-be6351644bdf",
   "metadata": {},
   "outputs": [],
   "source": [
    "sns.barplot(x='county', y='count', hue='electricVehicleType', data=df6)\n",
    "plt.show()"
   ]
  },
  {
   "cell_type": "code",
   "execution_count": null,
   "id": "d495e607-a7a2-4aa9-a6a6-fb9ff005a59a",
   "metadata": {},
   "outputs": [],
   "source": [
    "# Possible insights:\n",
    "# Relevant columns: count, city, modelYear,\tmake, model, electricVehicleType, cleanAlternativeFuelVehicle, electricRange\n",
    "# - get the median electricRange per county (taking out the 0);\n",
    "# - get the top 10 make and model;\n",
    "# - get the top type electricVehicleType per county;\n",
    "# - get a pivot with 75th quantile of the electricrange; "
   ]
  }
 ],
 "metadata": {
  "kernelspec": {
   "display_name": "Python 3 (ipykernel)",
   "language": "python",
   "name": "python3"
  },
  "language_info": {
   "codemirror_mode": {
    "name": "ipython",
    "version": 3
   },
   "file_extension": ".py",
   "mimetype": "text/x-python",
   "name": "python",
   "nbconvert_exporter": "python",
   "pygments_lexer": "ipython3",
   "version": "3.12.4"
  }
 },
 "nbformat": 4,
 "nbformat_minor": 5
}
